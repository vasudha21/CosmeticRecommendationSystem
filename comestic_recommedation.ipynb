{
 "cells": [
  {
   "cell_type": "code",
   "execution_count": 1,
   "metadata": {},
   "outputs": [],
   "source": [
    "import pandas as pd\n",
    "import numpy as np\n",
    "from sklearn.feature_extraction.text import CountVectorizer\n",
    "from sklearn.metrics.pairwise import cosine_similarity"
   ]
  },
  {
   "cell_type": "code",
   "execution_count": 2,
   "metadata": {},
   "outputs": [],
   "source": [
    "df = pd.read_csv(\"C:/Users/PC-ASUS/Documents/Major Project/temp/cosmetic_products.csv\")"
   ]
  },
  {
   "cell_type": "code",
   "execution_count": 3,
   "metadata": {},
   "outputs": [
    {
     "name": "stdout",
     "output_type": "stream",
     "text": [
      "Index(['ID', 'brand', 'name', 'product_type', 'img', 'rating', 'dupes',\n",
      "       'description', 'shade_img', 'price_site', 'view_count'],\n",
      "      dtype='object')\n"
     ]
    }
   ],
   "source": [
    "print(df.columns)"
   ]
  },
  {
   "cell_type": "code",
   "execution_count": 6,
   "metadata": {},
   "outputs": [],
   "source": [
    "features = ['brand','name','description']"
   ]
  },
  {
   "cell_type": "code",
   "execution_count": 7,
   "metadata": {},
   "outputs": [],
   "source": [
    "for feature in features:\n",
    "    df[feature] = df[feature].fillna('')"
   ]
  },
  {
   "cell_type": "code",
   "execution_count": 8,
   "metadata": {},
   "outputs": [],
   "source": [
    "def combine_features(row):\n",
    "    return row['brand']+\" \"+row['name']+\" \"+row['description']"
   ]
  },
  {
   "cell_type": "code",
   "execution_count": 9,
   "metadata": {},
   "outputs": [],
   "source": [
    "df[\"combined_features\"] = df.apply(combine_features, axis=1)"
   ]
  },
  {
   "cell_type": "code",
   "execution_count": 10,
   "metadata": {},
   "outputs": [
    {
     "name": "stdout",
     "output_type": "stream",
     "text": [
      "0    Butter London Handbag Holiday Cutile Oil With ...\n",
      "1    Butter London LIPPY Lippy: British slang for s...\n",
      "2    Butter London Hardwear P.D. Quick Top Coat Loc...\n",
      "3    Butter London Horse Power Nail Fertilizer Reap...\n",
      "4    Butter London Kitten Heels Powder Finish Foot ...\n",
      "Name: combined_features, dtype: object\n"
     ]
    }
   ],
   "source": [
    "print (df[\"combined_features\"].head())"
   ]
  },
  {
   "cell_type": "code",
   "execution_count": 11,
   "metadata": {},
   "outputs": [],
   "source": [
    " cv= CountVectorizer()\n",
    "count_matrix = cv.fit_transform(df[\"combined_features\"])"
   ]
  },
  {
   "cell_type": "code",
   "execution_count": 12,
   "metadata": {},
   "outputs": [],
   "source": [
    "cosine_sim = cosine_similarity(count_matrix)"
   ]
  },
  {
   "cell_type": "code",
   "execution_count": 16,
   "metadata": {},
   "outputs": [],
   "source": [
    "user_likes =\"Beach Body Lotion\""
   ]
  },
  {
   "cell_type": "code",
   "execution_count": 22,
   "metadata": {},
   "outputs": [],
   "source": [
    "def get_index_from_title(title):\n",
    "    return df[df.name == title].index.values[0]"
   ]
  },
  {
   "cell_type": "code",
   "execution_count": 23,
   "metadata": {},
   "outputs": [],
   "source": [
    "def get_title_from_index(index):\n",
    "    return df[df.index == index][\"name\"].values[0]"
   ]
  },
  {
   "cell_type": "code",
   "execution_count": 24,
   "metadata": {},
   "outputs": [],
   "source": [
    "Coms_index = get_index_from_title(user_likes)"
   ]
  },
  {
   "cell_type": "code",
   "execution_count": 27,
   "metadata": {},
   "outputs": [],
   "source": [
    "similar_coms = list(enumerate(cosine_sim[Coms_index]))"
   ]
  },
  {
   "cell_type": "code",
   "execution_count": 28,
   "metadata": {},
   "outputs": [],
   "source": [
    "sorted_similar_coms = sorted(similar_coms, key=lambda x:x[1], reverse = True)"
   ]
  },
  {
   "cell_type": "code",
   "execution_count": 30,
   "metadata": {},
   "outputs": [
    {
     "name": "stdout",
     "output_type": "stream",
     "text": [
      "Beach Body Lotion\n",
      "Beach Body Oil\n",
      "Soothing Body Lotion\n",
      "Perfumed Body Lotion\n",
      "Mitsouko\n",
      "Farewell Helps Fight Fungus\n",
      "Rejuvenating Foot Treatment Cream\n",
      "Make-up Melt Cleanser\n",
      "Hydrating Rich Cream Cleanser\n",
      "Renergie Oil Free Lotion\n",
      "Lip Crayon+\n",
      "Verite Special EyeCare\n",
      "Rouge Coco Stylo\n",
      "Airbrush Silk Anti-Aging Illuminizer\n",
      "Hydrating Face Cream\n",
      "Body Oil\n",
      "No. 50 Serum Anti-Aging Collagen Veil Primer\n",
      "Apricot Cuticle Oil\n",
      "Bye Bye Pores Silk HD Anti-Aging Airbrush Bronzer\n",
      "Vitality Lip Flush Lipstick Butter\n",
      "Eau de Parfum\n",
      "Beach Body Scrub\n",
      "Hydrating Eye Cream\n",
      "Rose Face Cleanser for Normal to Dry\n",
      "Whipped Mud Mask Argan Hydrating And Detoxifying Treatment\n",
      "Bronzing Glow Liquid\n",
      "Illumin8 With Youthful Synergy Complex Bronzer\n",
      "Rouge Shine Lipstick\n",
      "Nirvana Hydrating Treatment Mist\n",
      "Loose Face\n",
      "Daily Hydration Moisturizer\n",
      "Studio Body Glow\n",
      "Hydra Life Eye CrÃ¨me\n",
      "Hydra Life Sorbet Eye CrÃ¨me\n",
      "Habit Rouge\n",
      "Illuminating Eye Cream\n",
      "Lip Balm\n",
      "Moisturizing Body Cream\n",
      "Sculpt and Blend Brush Set\n",
      "Rich Renewal Ultra-Hydrating CrÃ¨me Peace\n",
      "Firmness Boosting Body Moisturizer\n",
      "Roll On Eye Shimmer\n",
      "Tinted Lip Conditioner\n",
      "Bear Naked Wipes\n",
      "Sun Designer Palette\n",
      "Pleasures Bloom\n",
      "Diorsnow Perfecting White Reveal Ultra Purifying Fluid\n",
      "L'Instant\n",
      "Clean Slate Poreless 12-Hr Perfecting Primer\n",
      "Drench Lip Splash Lipstick\n",
      "Brush-On Nourishing Cuticle Oil\n"
     ]
    }
   ],
   "source": [
    "i=0\n",
    "for j in sorted_similar_coms:\n",
    "    print(get_title_from_index(j[0]))\n",
    "    i=i+1\n",
    "    if i>50:\n",
    "        break"
   ]
  },
  {
   "cell_type": "code",
   "execution_count": null,
   "metadata": {},
   "outputs": [],
   "source": []
  }
 ],
 "metadata": {
  "kernelspec": {
   "display_name": "Python 3",
   "language": "python",
   "name": "python3"
  },
  "language_info": {
   "codemirror_mode": {
    "name": "ipython",
    "version": 3
   },
   "file_extension": ".py",
   "mimetype": "text/x-python",
   "name": "python",
   "nbconvert_exporter": "python",
   "pygments_lexer": "ipython3",
   "version": "3.7.4"
  }
 },
 "nbformat": 4,
 "nbformat_minor": 2
}
